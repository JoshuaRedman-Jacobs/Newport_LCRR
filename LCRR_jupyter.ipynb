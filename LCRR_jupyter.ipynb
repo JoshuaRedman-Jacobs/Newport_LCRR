{
 "cells": [
  {
   "cell_type": "code",
   "execution_count": 15,
   "metadata": {},
   "outputs": [],
   "source": [
    "import arcpy\n",
    "import datetime\n",
    "import reportlab\n",
    "from reportlab.pdfgen import canvas\n",
    "# from reportlab.lib.pagesizes import letter\n",
    "from PyPDF2 import PdfFileReader, PdfFileWriter"
   ]
  },
  {
   "cell_type": "code",
   "execution_count": 10,
   "metadata": {},
   "outputs": [],
   "source": [
    "working_folder = r'C:\\Users\\JR067290\\OneDrive - Jacobs\\Documents\\ArcGIS\\Projects\\Newport_LCRR'\n",
    "# Set the workspace (change this to your local path)\n",
    "gdb = r'C:\\Users\\JR067290\\OneDrive - Jacobs\\Documents\\ArcGIS\\Projects\\Newport_LCRR\\Newport_LCRR.gdb'\n",
    "\n",
    "arcpy.env.workspace = gdb\n",
    "# Feature class and related table paths\n",
    "wServices = f'{gdb}\\\\wServices'\n",
    "LCRR_Letter_Tracking = f'{gdb}\\\\LCRR_Letter_Tracking'\n",
    "\n",
    "# Get the current date\n",
    "current_date = datetime.datetime.now().strftime(\"%Y-%m-%d\")  # Formats the date as YYYY-MM-DD\n",
    "\n",
    "# Output PDF path\n",
    "output_pdf_path = working_folder + 'Postcards\\Postcard_' + current_date + '.pdf'\n",
    "template_pdf_path = f'{working_folder}\\\\Newport_SLM_Postcard.pdf'"
   ]
  },
  {
   "cell_type": "code",
   "execution_count": 16,
   "metadata": {},
   "outputs": [],
   "source": [
    "def add_multiline_address_to_pdf(template_pdf_path, output_pdf_path, address_lines, x_position=288, y_position=94, line_spacing=14):\n",
    "    \"\"\"\n",
    "    Adds a multi-line address to a PDF.\n",
    "\n",
    "    Parameters:\n",
    "    - template_pdf_path: Path to the input PDF template.\n",
    "    - output_pdf_path: Path where the modified PDF will be saved.\n",
    "    - address_lines: A list of strings, each representing a line of the address.\n",
    "    - x_position: The X coordinate for the start of the address.\n",
    "    - y_position: The Y coordinate for the start of the address (bottom line).\n",
    "    - line_spacing: The amount of space between each line of the address.\n",
    "    \"\"\"\n",
    "    # Create a temporary PDF with the address\n",
    "    address_pdf_path = 'temp_address_overlay.pdf'\n",
    "    c = canvas.Canvas(address_pdf_path)\n",
    "    \n",
    "    # Draw each line of the address, adjusting the Y position for each line\n",
    "    current_y_position = y_position\n",
    "    for line in reversed(address_lines):  # Start from the bottom line if y_position is the bottom line\n",
    "        c.drawString(x_position, current_y_position, line)\n",
    "        current_y_position += line_spacing  # Move up for the next line\n",
    "    \n",
    "    c.save()\n",
    "\n",
    "    # Merge the address overlay with the original PDF\n",
    "    original = PdfFileReader(open(template_pdf_path, 'rb'))\n",
    "    address_overlay = PdfFileReader(open(address_pdf_path, 'rb'))\n",
    "    output_pdf = PdfFileWriter()\n",
    "\n",
    "    # Assuming you're adding the address to the first page of the PDF\n",
    "    page = original.getPage(0)\n",
    "    page.mergePage(address_overlay.getPage(0))\n",
    "    output_pdf.addPage(page)\n",
    "\n",
    "    # If there are more pages, add them too\n",
    "    for pageNum in range(1, original.numPages):\n",
    "        output_pdf.addPage(original.getPage(pageNum))\n",
    "    \n",
    "    with open(output_pdf_path, 'wb') as out_file:\n",
    "        output_pdf.write(out_file)"
   ]
  },
  {
   "cell_type": "code",
   "execution_count": 17,
   "metadata": {},
   "outputs": [],
   "source": [
    "address_lines = [\n",
    "    non_null_rows,\n",
    "    \"Newport, RI 02840\",\n",
    "    'cityofnewport.com/lead'\n",
    "]\n"
   ]
  },
  {
   "cell_type": "code",
   "execution_count": 18,
   "metadata": {},
   "outputs": [],
   "source": [
    "add_multiline_address_to_pdf(template_pdf_path, output_pdf_path, address_lines)"
   ]
  },
  {
   "cell_type": "code",
   "execution_count": 5,
   "metadata": {},
   "outputs": [],
   "source": [
    "# Determine whether to process selected features or all features\n",
    "feature_count = arcpy.GetCount_management(wServices)\n",
    "selection_count = int(feature_count.getOutput(0))\n",
    "use_selected_features = False\n",
    "\n",
    "# Check if there are selected features\n",
    "if selection_count < int(arcpy.GetCount_management(wServices)[0]):\n",
    "    use_selected_features = True\n",
    "\n",
    "# Fields to be used from the feature class and related table\n",
    "feature_fields = [\"LetterRelID\", \"PointAddress\"]\n",
    "table_fields = [\"LetterRelID\", \"LetterSentDate\", \"LetterType\"]"
   ]
  },
  {
   "cell_type": "code",
   "execution_count": 6,
   "metadata": {},
   "outputs": [
    {
     "name": "stdout",
     "output_type": "stream",
     "text": [
      "Operation completed: Records added and PDF generated.\n"
     ]
    }
   ],
   "source": [
    "# Start an edit session and operation\n",
    "with arcpy.da.Editor(arcpy.env.workspace) as editor:\n",
    "    # Create a SearchCursor for the feature class\n",
    "    with arcpy.da.SearchCursor(wServices, feature_fields, None if use_selected_features else \"LetterRelID IS NOT NULL\") as cursor:\n",
    "        # Open an InsertCursor to add records to the related table\n",
    "        with arcpy.da.InsertCursor(LCRR_Letter_Tracking, table_fields) as insert_cursor:\n",
    "            for row in cursor:\n",
    "                # Create a new row for the related table\n",
    "                new_row = (row[0], current_date, \"Postcard\")  # Include LetterRelID, current date, and set LetterType to \"Postcard\"\n",
    "                # Insert the new row into the related table\n",
    "                insert_cursor.insertRow(new_row)\n",
    "\n",
    "                 # Draw address label on PDF\n",
    "                address = row[1]\n",
    "                draw_label(x, y, address)\n",
    "                x += label_width + x_gap\n",
    "                if x + label_width > width - left_margin:\n",
    "                    x = left_margin\n",
    "                    y -= label_height + y_gap\n",
    "                    if y < top_margin:\n",
    "                        c.showPage()\n",
    "                        y = height - top_margin - label_height\n",
    "\n",
    "# Save the PDF\n",
    "c.save()\n",
    "\n",
    "\n",
    "print(\"Operation completed: Records added and PDF generated.\")"
   ]
  },
  {
   "cell_type": "code",
   "execution_count": null,
   "metadata": {},
   "outputs": [],
   "source": [
    "def generate_pdf(output_pdf, cursor, label_width, label_height, x_gap, y_gap, top_margin, left_margin):\n",
    "    # Initialize PDF canvas\n",
    "    c = canvas.Canvas(output_pdf, pagesize=letter)\n",
    "    width, height = letter\n",
    "    x, y = left_margin, height - top_margin - label_height\n",
    "\n",
    "    for row in cursor:\n",
    "        # [Your logic to draw labels, handle page breaks, etc.]\n",
    "\n",
    "    # Save the PDF\n",
    "    c.save()"
   ]
  },
  {
   "cell_type": "code",
   "execution_count": null,
   "metadata": {},
   "outputs": [],
   "source": [
    "# Use this function to generate the PDF\n",
    "with arcpy.da.SearchCursor(wServices, feature_fields, None if use_selected_features else \"LetterRelID IS NOT NULL\") as cursor:\n",
    "    output_pdf = working_folder + '\\Postcard_' + current_date + '.pdf'\n",
    "    generate_pdf(output_pdf, cursor, label_width, label_height, x_gap, y_gap, top_margin, left_margin)\n"
   ]
  },
  {
   "cell_type": "code",
   "execution_count": null,
   "metadata": {},
   "outputs": [],
   "source": []
  },
  {
   "cell_type": "markdown",
   "metadata": {},
   "source": [
    "USING THE SLM Survey Postcard 8x6"
   ]
  },
  {
   "cell_type": "code",
   "execution_count": null,
   "metadata": {},
   "outputs": [],
   "source": [
    "import arcpy\n",
    "import os\n",
    "from reportlab.pdfgen import canvas\n",
    "from reportlab.lib.pagesizes import letter\n",
    "from io import BytesIO\n",
    "\n",
    "# Paths\n",
    "arcpy.env.workspace = \"C:/path/to/your/workspace\"\n",
    "feature_class = \"C:/path/to/your/feature_class\"\n",
    "pdf_template_path = '/path/to/Newport_SLM Survey Postcard 8x6_Dec 15-Draft.pdf'\n",
    "\n",
    "# Coordinates for the address placement\n",
    "address_x = 470  # Adjust as needed\n",
    "address_y = 670  # Adjust as needed\n",
    "\n",
    "# Function to create a temporary PDF with the address\n",
    "def create_temp_pdf(address):\n",
    "    packet = BytesIO()\n",
    "    can = canvas.Canvas(packet, pagesize=letter)\n",
    "    can.drawString(address_x, address_y, address)\n",
    "    can.save()\n",
    "    packet.seek(0)\n",
    "    return packet\n",
    "\n",
    "# Iterate over the selected features\n",
    "with arcpy.da.SearchCursor(feature_class, [\"Address\"]) as cursor:\n",
    "    for i, row in enumerate(cursor):\n",
    "        address = row[0]\n",
    "\n",
    "        # Create a temporary PDF with the address\n",
    "        temp_pdf_stream = create_temp_pdf(address)\n",
    "\n",
    "        # Load the template PDF and append the temporary PDF with the address\n",
    "        final_pdf = arcpy.mp.PDFDocumentOpen(pdf_template_path)\n",
    "        temp_pdf_path = f\"C:/path/to/temp/address_temp_{i}.pdf\"\n",
    "        with open(temp_pdf_path, \"wb\") as f:\n",
    "            f.write(temp_pdf_stream.read())\n",
    "\n",
    "        # Append the page with the address to the template PDF\n",
    "        final_pdf.appendPages(temp_pdf_path)\n",
    "        \n",
    "        # Save the final PDF\n",
    "        output_pdf_path = f\"C:/path/to/output/address_Postcard_{i}.pdf\"\n",
    "        final_pdf.saveAndClose()\n",
    "        os.remove(temp_pdf_path)  # Clean up the temporary PDF file\n",
    "\n",
    "        print(f\"Saved PDF for address: {address} as {output_pdf_path}\")\n"
   ]
  }
 ],
 "metadata": {
  "kernelspec": {
   "display_name": "Python 3",
   "language": "python",
   "name": "python3"
  },
  "language_info": {
   "codemirror_mode": {
    "name": "ipython",
    "version": 3
   },
   "file_extension": ".py",
   "mimetype": "text/x-python",
   "name": "python",
   "nbconvert_exporter": "python",
   "pygments_lexer": "ipython3",
   "version": "3.9.18"
  }
 },
 "nbformat": 4,
 "nbformat_minor": 2
}
