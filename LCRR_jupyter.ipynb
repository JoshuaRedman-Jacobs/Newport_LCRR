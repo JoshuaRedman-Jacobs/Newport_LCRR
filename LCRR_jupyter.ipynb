{
 "cells": [
  {
   "cell_type": "code",
   "execution_count": 1,
   "metadata": {},
   "outputs": [],
   "source": [
    "import arcpy\n",
    "import datetime\n",
    "import reportlab\n",
    "from reportlab.pdfgen import canvas\n",
    "from reportlab.lib.pagesizes import letter"
   ]
  },
  {
   "cell_type": "code",
   "execution_count": 2,
   "metadata": {},
   "outputs": [],
   "source": [
    "# Avery 5160 label dimensions and layout (in points; 1 point = 1/72 inch)\n",
    "label_width = 2.625 * 72  # Label width in points\n",
    "label_height = 1 * 72  # Label height in points\n",
    "columns = 3  # Number of columns\n",
    "rows = 10  # Number of rows\n",
    "top_margin = 0.5 * 72  # Top margin in points\n",
    "left_margin = 0.1875 * 72  # Left margin in points\n",
    "x_gap = 0.125 * 72  # Gap between columns\n",
    "y_gap = 0  # Gap between rows"
   ]
  },
  {
   "cell_type": "code",
   "execution_count": 3,
   "metadata": {},
   "outputs": [],
   "source": [
    "working_folder = r'C:\\Users\\JR067290\\OneDrive - Jacobs\\Documents\\ArcGIS\\Projects\\Newport_LCRR'\n",
    "# Set the workspace (change this to your local path)\n",
    "gdb = r'C:\\Users\\JR067290\\OneDrive - Jacobs\\Documents\\ArcGIS\\Projects\\Newport_LCRR\\Newport_LCRR.gdb'\n",
    "\n",
    "arcpy.env.workspace = gdb\n",
    "# Feature class and related table paths\n",
    "wServices = f'{gdb}\\\\wServices'\n",
    "LCRR_Letter_Tracking = f'{gdb}\\\\LCRR_Letter_Tracking'\n",
    "\n",
    "# Get the current date\n",
    "current_date = datetime.datetime.now().strftime(\"%Y-%m-%d\")  # Formats the date as YYYY-MM-DD\n",
    "\n",
    "# Output PDF path\n",
    "output_pdf = working_folder + '\\Postcard_' + current_date + '.pdf'"
   ]
  },
  {
   "cell_type": "code",
   "execution_count": 4,
   "metadata": {},
   "outputs": [],
   "source": [
    "# Initialize PDF canvas\n",
    "c = canvas.Canvas(output_pdf, pagesize=letter)\n",
    "width, height = letter\n",
    "x, y = left_margin, height - top_margin - label_height\n",
    "\n",
    "# Function to draw an address label\n",
    "def draw_label(x, y, address):\n",
    "    c.drawString(x, y, address)"
   ]
  },
  {
   "cell_type": "code",
   "execution_count": 5,
   "metadata": {},
   "outputs": [],
   "source": [
    "# Determine whether to process selected features or all features\n",
    "feature_count = arcpy.GetCount_management(wServices)\n",
    "selection_count = int(feature_count.getOutput(0))\n",
    "use_selected_features = False\n",
    "\n",
    "# Check if there are selected features\n",
    "if selection_count < int(arcpy.GetCount_management(wServices)[0]):\n",
    "    use_selected_features = True\n",
    "\n",
    "# Fields to be used from the feature class and related table\n",
    "feature_fields = [\"LetterRelID\", \"PointAddress\"]\n",
    "table_fields = [\"LetterRelID\", \"LetterSentDate\", \"LetterType\"]"
   ]
  },
  {
   "cell_type": "code",
   "execution_count": 6,
   "metadata": {},
   "outputs": [
    {
     "name": "stdout",
     "output_type": "stream",
     "text": [
      "Operation completed: Records added and PDF generated.\n"
     ]
    }
   ],
   "source": [
    "# Start an edit session and operation\n",
    "with arcpy.da.Editor(arcpy.env.workspace) as editor:\n",
    "    # Create a SearchCursor for the feature class\n",
    "    with arcpy.da.SearchCursor(wServices, feature_fields, None if use_selected_features else \"LetterRelID IS NOT NULL\") as cursor:\n",
    "        # Open an InsertCursor to add records to the related table\n",
    "        with arcpy.da.InsertCursor(LCRR_Letter_Tracking, table_fields) as insert_cursor:\n",
    "            for row in cursor:\n",
    "                # Create a new row for the related table\n",
    "                new_row = (row[0], current_date, \"Postcard\")  # Include LetterRelID, current date, and set LetterType to \"Postcard\"\n",
    "                # Insert the new row into the related table\n",
    "                insert_cursor.insertRow(new_row)\n",
    "\n",
    "                 # Draw address label on PDF\n",
    "                address = row[1]\n",
    "                draw_label(x, y, address)\n",
    "                x += label_width + x_gap\n",
    "                if x + label_width > width - left_margin:\n",
    "                    x = left_margin\n",
    "                    y -= label_height + y_gap\n",
    "                    if y < top_margin:\n",
    "                        c.showPage()\n",
    "                        y = height - top_margin - label_height\n",
    "\n",
    "# Save the PDF\n",
    "c.save()\n",
    "\n",
    "\n",
    "print(\"Operation completed: Records added and PDF generated.\")"
   ]
  },
  {
   "cell_type": "code",
   "execution_count": null,
   "metadata": {},
   "outputs": [],
   "source": [
    "PointAddress\n",
    "\n"
   ]
  },
  {
   "cell_type": "code",
   "execution_count": null,
   "metadata": {},
   "outputs": [],
   "source": []
  }
 ],
 "metadata": {
  "kernelspec": {
   "display_name": "Python 3",
   "language": "python",
   "name": "python3"
  },
  "language_info": {
   "codemirror_mode": {
    "name": "ipython",
    "version": 3
   },
   "file_extension": ".py",
   "mimetype": "text/x-python",
   "name": "python",
   "nbconvert_exporter": "python",
   "pygments_lexer": "ipython3",
   "version": "3.9.16"
  }
 },
 "nbformat": 4,
 "nbformat_minor": 2
}
